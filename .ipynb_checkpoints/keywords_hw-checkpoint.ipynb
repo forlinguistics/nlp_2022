{
 "cells": [
  {
   "cell_type": "markdown",
   "metadata": {},
   "source": [
    "# 1-2. Выбор текстов\n",
    "Для задания я взял семь частей статей из википедии. Изначально интуиция была, что у ключевых слов будет стоять ссылки на соответствующие им статьи, но в дальнейшем я убирал или добавлял слова в случаях, которые по моему мнению не соответствовали такой интуиции"
   ]
  },
  {
   "cell_type": "code",
   "execution_count": 41,
   "metadata": {},
   "outputs": [],
   "source": [
    "text_dict = []\n",
    "for i in range(1,8):\n",
    "    text_keywords  = {}\n",
    "    \n",
    "    with open('corpus/article_' + str(i) + '.txt') as f:\n",
    "        text = f.read()\n",
    "    text_keywords['text'] = text\n",
    "    with open('corpus/keywords_' + str(i) + '.txt') as f:\n",
    "        keywords = f.read()\n",
    "        keywords = [i.strip().lower() for i in keywords.split(',')]\n",
    "    text_keywords['keywords'] = keywords\n",
    "    text_dict.append(text_keywords)"
   ]
  },
  {
   "cell_type": "markdown",
   "metadata": {},
   "source": [
    "# 3. Применение методов"
   ]
  },
  {
   "cell_type": "code",
   "execution_count": 30,
   "metadata": {},
   "outputs": [],
   "source": [
    "import RAKE\n",
    "import nltk\n",
    "import spacy\n",
    "from nltk.corpus import stopwords\n",
    "nlp = spacy.load(\"en_core_web_sm\")\n",
    "'''Функция лемматизации'''\n",
    "def normalize_text(text):\n",
    "    doc = nlp(text)\n",
    "    lemmas = []\n",
    "    for token in doc:\n",
    "        if token.lemma_ != '-PRON-':\n",
    "            lemmas.append(token.lemma_)\n",
    "    return ' '.join(lemmas)"
   ]
  },
  {
   "cell_type": "code",
   "execution_count": 20,
   "metadata": {},
   "outputs": [],
   "source": [
    "stop = stopwords.words('english')"
   ]
  },
  {
   "cell_type": "markdown",
   "metadata": {},
   "source": [
    "## 3.1 Rake"
   ]
  },
  {
   "cell_type": "code",
   "execution_count": 21,
   "metadata": {},
   "outputs": [],
   "source": [
    "rake = RAKE.Rake(stop)"
   ]
  },
  {
   "cell_type": "code",
   "execution_count": 57,
   "metadata": {
    "scrolled": true
   },
   "outputs": [],
   "source": [
    "rake_list = []\n",
    "for text in [i['text'] for i in text_dict]:\n",
    "    wiki_kw_list = rake.run(text, maxWords=3, minFrequency=2)\n",
    "    rake_list.append(wiki_kw_list)"
   ]
  },
  {
   "cell_type": "code",
   "execution_count": 76,
   "metadata": {},
   "outputs": [
    {
     "data": {
      "text/plain": [
       "[[('big dream', 3.666666666666667),\n",
       "  ('lynch', 2.1),\n",
       "  ('musician', 1.0),\n",
       "  ('well', 1.0),\n",
       "  ('video', 1.0),\n",
       "  ('including', 1.0),\n",
       "  ('tm', 1.0),\n",
       "  ('2001', 0),\n",
       "  ('2006', 0)],\n",
       " [('mac os x', 7.5),\n",
       "  ('classic mac os', 7.083333333333334),\n",
       "  ('mac os', 4.833333333333334),\n",
       "  ('mac os 9', 4.833333333333334),\n",
       "  ('system software', 4.0),\n",
       "  ('system 5', 2.0),\n",
       "  ('system', 2.0),\n",
       "  ('apple', 1.7142857142857142),\n",
       "  ('developed', 1.6666666666666667),\n",
       "  ('desktop', 1.25),\n",
       "  ('introduction', 1.0),\n",
       "  ('part', 1.0),\n",
       "  ('use', 1.0),\n",
       "  ('time', 1.0),\n",
       "  ('switcher', 1.0),\n",
       "  ('support', 1.0),\n",
       "  ('1984', 0),\n",
       "  ('1997', 0)],\n",
       " [('united states', 4.083333333333333),\n",
       "  ('mississippi river', 3.9772727272727275),\n",
       "  ('river', 2.25),\n",
       "  ('states', 1.8333333333333333),\n",
       "  ('mississippi', 1.7272727272727273),\n",
       "  ('gulf', 1.0),\n",
       "  ('missouri', 1.0),\n",
       "  ('2', 0)],\n",
       " [('mount everest', 4.0),\n",
       "  ('earthquake', 1.8125),\n",
       "  ('kathmandu', 1.5555555555555556),\n",
       "  ('east', 1.3333333333333333),\n",
       "  ('nepal', 1.3333333333333333),\n",
       "  ('magnitude', 1.2857142857142858),\n",
       "  ('2 km', 1.25),\n",
       "  ('25 april 2015', 1.0),\n",
       "  ('epicenter', 1.0),\n",
       "  ('northwest', 1.0),\n",
       "  ('depth', 1.0),\n",
       "  ('approximately 8', 1.0),\n",
       "  ('1 mi', 1.0),\n",
       "  ('capital', 1.0),\n",
       "  ('along', 1.0),\n",
       "  ('destroyed', 1.0),\n",
       "  ('including', 1.0),\n",
       "  ('architecture', 1.0),\n",
       "  ('5 mw', 1.0),\n",
       "  ('usgs', 1.0),\n",
       "  ('8 mw', 1.0),\n",
       "  ('according', 1.0),\n",
       "  ('produce', 1.0),\n",
       "  ('11', 0),\n",
       "  ('7', 0),\n",
       "  ('8', 0),\n",
       "  ('5', 0),\n",
       "  ('6', 0),\n",
       "  ('12', 0),\n",
       "  ('06', 0)],\n",
       " [('vector space may', 7.0),\n",
       "  ('displacement vectors', 4.583333333333334),\n",
       "  ('linear subspace', 4.166666666666666),\n",
       "  ('affine space', 4.0),\n",
       "  ('makes sense', 4.0),\n",
       "  ('translation vector', 4.0),\n",
       "  ('zero vector', 4.0),\n",
       "  ('affine subspace', 4.0),\n",
       "  ('vector space', 4.0),\n",
       "  ('vector', 2.0),\n",
       "  ('space', 2.0),\n",
       "  ('point', 1.6666666666666667),\n",
       "  ('dimension', 1.4),\n",
       "  ('translations', 1.3333333333333333),\n",
       "  ('origin', 1.2),\n",
       "  ('elements', 1.0)],\n",
       " [('human languages', 4.166666666666666),\n",
       "  ('human language', 3.583333333333333),\n",
       "  ('languages', 2.0),\n",
       "  ('spoken', 1.75),\n",
       "  ('words', 1.5),\n",
       "  ('thought', 1.5),\n",
       "  ('language', 1.4166666666666667),\n",
       "  ('communication', 1.3333333333333333),\n",
       "  ('etc', 1.0),\n",
       "  ('established', 1.0),\n",
       "  ('used', 1.0),\n",
       "  ('set', 1.0),\n",
       "  ('rules', 1.0),\n",
       "  ('utterances', 1.0),\n",
       "  ('governs', 1.0),\n",
       "  ('morphemes', 1.0),\n",
       "  ('philosophy', 1.0),\n",
       "  ('debated', 1.0),\n",
       "  ('000', 0)],\n",
       " [('american civil war', 7.113095238095238),\n",
       "  ('civil war', 4.446428571428571),\n",
       "  ('united states', 3.571428571428571),\n",
       "  ('slavery', 2.0),\n",
       "  ('war', 1.875),\n",
       "  ('led', 1.6666666666666667),\n",
       "  ('confederacy', 1.625),\n",
       "  ('states', 1.5714285714285714),\n",
       "  ('lincoln', 1.5),\n",
       "  ('u', 1.4),\n",
       "  ('lee', 1.3333333333333333),\n",
       "  ('south', 1.0),\n",
       "  ('victory', 1.0),\n",
       "  ('west', 1.0),\n",
       "  ('much', 1.0),\n",
       "  ('battle', 1.0),\n",
       "  ('end', 1.0),\n",
       "  ('railroads', 1.0),\n",
       "  ('1865', 0),\n",
       "  ('1863', 0),\n",
       "  ('1864', 0)]]"
      ]
     },
     "execution_count": 76,
     "metadata": {},
     "output_type": "execute_result"
    }
   ],
   "source": [
    "rake_list"
   ]
  },
  {
   "cell_type": "markdown",
   "metadata": {},
   "source": [
    "## 3.2 TextRank"
   ]
  },
  {
   "cell_type": "code",
   "execution_count": 82,
   "metadata": {},
   "outputs": [],
   "source": [
    "textrank_list = []\n",
    "from summa import keywords\n",
    "for text in [i['text'] for i in text_dict]:\n",
    "    textrank_list.append(keywords.keywords(normalize_text(text), language='english', additional_stopwords=stop, scores=True))"
   ]
  },
  {
   "cell_type": "code",
   "execution_count": 104,
   "metadata": {},
   "outputs": [
    {
     "data": {
      "text/plain": [
       "[[('film', 0.5106241211053337),\n",
       "  ('lynch', 0.28320838717374375),\n",
       "  ('award', 0.15558113187953052),\n",
       "  ('man', 0.12992612030122727),\n",
       "  ('work', 0.12518838483382252),\n",
       "  ('include', 0.12468413779449558),\n",
       "  ('filmmaker', 0.12257397819430031),\n",
       "  ('filmmaking', 0.12257397819430031),\n",
       "  ('musician', 0.10756594398760122),\n",
       "  ('surrealist', 0.10315505118573652),\n",
       "  ('twin', 0.10014284261935635),\n",
       "  ('meditation', 0.09881704924318804),\n",
       "  ('turn', 0.09881704924318803),\n",
       "  ('image', 0.09881704924318789),\n",
       "  ('onscreen', 0.09881704924318772),\n",
       "  ('movie', 0.09881704924318749),\n",
       "  ('frost', 0.0988170492431874),\n",
       "  ('blue', 0.09357568500024052),\n",
       "  ('critic', 0.09332423842772526),\n",
       "  ('artist', 0.09188235657394457),\n",
       "  ('artistic', 0.09188235657394457),\n",
       "  ('dean', 0.08100472327323995),\n",
       "  ('clown', 0.08100472327323993),\n",
       "  ('album', 0.08100472327323976),\n",
       "  ('collaborator', 0.08100472327323968),\n",
       "  ('mulholland', 0.07848172974560642),\n",
       "  ('fish', 0.07848172974560629),\n",
       "  ('alan', 0.07753600716330263),\n",
       "  ('splet', 0.07753600716330258),\n",
       "  ('bluebob', 0.07753600716330257),\n",
       "  ('crazy', 0.07753600716330257)],\n",
       " [('macintosh', 0.23060922693532493),\n",
       "  ('allow', 0.2282708761190177),\n",
       "  ('program', 0.21336895334789105),\n",
       "  ('os', 0.19922841335365402),\n",
       "  ('additional memory', 0.19798408458364486),\n",
       "  ('apple', 0.16649381779905614),\n",
       "  ('multitasking', 0.16186242066042603),\n",
       "  ('user interface', 0.14311509259029753),\n",
       "  ('operating', 0.14239626323348836),\n",
       "  ('operate', 0.14239626323348836),\n",
       "  ('mac', 0.13761369091730788),\n",
       "  ('release', 0.13217083078493372),\n",
       "  ('software', 0.13044810563171974),\n",
       "  ('share', 0.12420020742193869),\n",
       "  ('layered', 0.11891074242469092),\n",
       "  ('layer', 0.11891074242469092),\n",
       "  ('device', 0.1189107424246909),\n",
       "  ('base', 0.11725211087341458),\n",
       "  ('classic', 0.11390165026269918),\n",
       "  ('development effort', 0.10577570265068327),\n",
       "  ('develop', 0.105775702650683),\n",
       "  ('originally', 0.1028878329793984),\n",
       "  ('original', 0.1028878329793984),\n",
       "  ('origin', 0.1028878329793984),\n",
       "  ('pre', 0.09259884005044947)],\n",
       " [('form', 0.24383062215463147),\n",
       "  ('river', 0.24288399102503935),\n",
       "  ('new', 0.18924737263218927),\n",
       "  ('mississippi', 0.18304358457472913),\n",
       "  ('large drainage', 0.16029019822127694),\n",
       "  ('major', 0.15268822110097063),\n",
       "  ('native', 0.13164708954288748),\n",
       "  ('war', 0.1306547112952991),\n",
       "  ('civilization', 0.1252830889969064),\n",
       "  ('civil', 0.1252830889969064),\n",
       "  ('minnesota', 0.1207047392123853),\n",
       "  ('elevated', 0.11612906956975305),\n",
       "  ('transportation', 0.11612906956975293),\n",
       "  ('western', 0.11612906956975289),\n",
       "  ('engineering', 0.11612906956975282),\n",
       "  ('force', 0.11612906956975273),\n",
       "  ('problem', 0.11612906956975264),\n",
       "  ('dead', 0.11612906956975212),\n",
       "  ('agricultural', 0.10995165750592514),\n",
       "  ('state', 0.10990955907302707),\n",
       "  ('states', 0.10990955907302707),\n",
       "  ('second', 0.10548760384762657),\n",
       "  ('missouri', 0.10422537472494116),\n",
       "  ('generally', 0.09099721010089955),\n",
       "  ('th century', 0.08820900679880993),\n",
       "  ('bay', 0.08512473731058262)],\n",
       " [('nepal earthquake', 0.3059294097908027),\n",
       "  ('kathmandu', 0.19190138561794115),\n",
       "  ('occur', 0.1268449144569906),\n",
       "  ('durbar', 0.12084203888657669),\n",
       "  ('long', 0.11701687975699314),\n",
       "  ('major', 0.11674505411515557),\n",
       "  ('gorkha', 0.11580973044956071),\n",
       "  ('tucker', 0.11552593857355609),\n",
       "  ('stupa', 0.11552593857355593),\n",
       "  ('mw', 0.10466514781525395),\n",
       "  ('geology', 0.10189847015540882),\n",
       "  ('geological', 0.10189847015540882),\n",
       "  ('plate', 0.09948819481461983),\n",
       "  ('approximately', 0.09609196474280489),\n",
       "  ('extreme', 0.08786479835172349),\n",
       "  ('natural', 0.08786479835172077),\n",
       "  ('outdoors', 0.08786479835171991),\n",
       "  ('motion', 0.0878647983517199),\n",
       "  ('narayan', 0.08786479835171976),\n",
       "  ('focus', 0.08786479835171966),\n",
       "  ('village', 0.08786479835171965),\n",
       "  ('homeless', 0.08786479835171963),\n",
       "  ('happen', 0.08786479835171959),\n",
       "  ('accumulate', 0.08786479835171951),\n",
       "  ('organization', 0.08786479835171937),\n",
       "  ('mercalli', 0.08786479835171931),\n",
       "  ('dive', 0.08786479835171923),\n",
       "  ('kill', 0.08555069005893327),\n",
       "  ('central', 0.08418539457013395),\n",
       "  ('report', 0.0837401146154302),\n",
       "  ('valley', 0.0826152414731743),\n",
       "  ('continue aftershock', 0.08260289300836224),\n",
       "  ('magnitude', 0.07896124327090022),\n",
       "  ('east', 0.07815913511598738),\n",
       "  ('old', 0.07815913511598714),\n",
       "  ('century', 0.07815913511598711),\n",
       "  ('mi', 0.07815913511598704),\n",
       "  ('vinod', 0.07815913511598703),\n",
       "  ('kumar', 0.078159135115987)],\n",
       " [('vector', 0.34525344925991863),\n",
       "  ('affine space', 0.3110184610837343),\n",
       "  ('point', 0.2479463106571018),\n",
       "  ('translation', 0.2261516413038204),\n",
       "  ('translate', 0.2261516413038204),\n",
       "  ('linear', 0.21073088354632008),\n",
       "  ('line', 0.1826980760979689),\n",
       "  ('role', 0.17961130358112112),\n",
       "  ('dimension', 0.15977119857216035),\n",
       "  ('n', 0.1597711985721603)],\n",
       " [('language', 0.6279486563829497),\n",
       "  ('human', 0.21921604190865274),\n",
       "  ('social', 0.18844917216396753),\n",
       "  ('вђ', 0.1523610158455863),\n",
       "  ('communication', 0.13739480003237084),\n",
       "  ('communicative', 0.13739480003237084),\n",
       "  ('use', 0.1277212315854898),\n",
       "  ('speak', 0.12567524953054607),\n",
       "  ('mean', 0.110372313290431),\n",
       "  ('meaning', 0.110372313290431),\n",
       "  ('estimate', 0.1103723132904306),\n",
       "  ('sign', 0.09943775538238196),\n",
       "  ('signing', 0.09943775538238196),\n",
       "  ('century', 0.09829492611445638),\n",
       "  ('living', 0.09010231459832153),\n",
       "  ('consensus', 0.09010231459832105),\n",
       "  ('distinction', 0.0901023145983205),\n",
       "  ('early', 0.08445108107127389),\n",
       "  ('critical', 0.08014949232300332),\n",
       "  ('linguistic', 0.08014949232300317),\n",
       "  ('linguist', 0.08014949232300317),\n",
       "  ('form sequence', 0.08014949232300309),\n",
       "  ('sight', 0.08014949232300304),\n",
       "  ('sound', 0.08014949232300295),\n",
       "  ('greek civilization', 0.08014949232300271),\n",
       "  ('general', 0.08008975202465049),\n",
       "  ('generally', 0.08008975202465049),\n",
       "  ('write', 0.07918158295883145),\n",
       "  ('writing', 0.07918158295883145),\n",
       "  ('include', 0.07889761593865349),\n",
       "  ('natural', 0.07688006405908844),\n",
       "  ('oral', 0.07577942765766088),\n",
       "  ('dependent', 0.07577942765766059),\n",
       "  ('depend', 0.07577942765766059)],\n",
       " [('war', 0.2638471581273712),\n",
       "  ('wars', 0.2638471581273712),\n",
       "  ('confederate', 0.2466737109743412),\n",
       "  ('confederates', 0.2466737109743412),\n",
       "  ('union', 0.1915993852663735),\n",
       "  ('surrender', 0.1868054866821839),\n",
       "  ('end', 0.1674539170576642),\n",
       "  ('western', 0.14578563884580018),\n",
       "  ('general', 0.13731146775546207),\n",
       "  ('lincoln', 0.13251000280406758),\n",
       "  ('states', 0.12757066611851628),\n",
       "  ('state', 0.12757066611851628),\n",
       "  ('slavery', 0.12533285362656105),\n",
       "  ('civil', 0.12224607483785072),\n",
       "  ('make significant', 0.10698021296099747),\n",
       "  ('widely', 0.10421122036269533),\n",
       "  ('naval', 0.10421122036269527),\n",
       "  ('produce', 0.10421122036269523),\n",
       "  ('cause', 0.10421122036269494),\n",
       "  ('proclamation', 0.10421122036269485),\n",
       "  ('slave', 0.1033065449665897),\n",
       "  ('ultimate', 0.09701225760865212),\n",
       "  ('ultimately', 0.09701225760865212),\n",
       "  ('confederacy', 0.09586697032332442),\n",
       "  ('house', 0.09269990947142938),\n",
       "  ('court', 0.09269990947142934),\n",
       "  ('enslave black', 0.09269990947142932),\n",
       "  ('dead', 0.09269990947142918),\n",
       "  ('deadly military', 0.09269990947142918),\n",
       "  ('river', 0.09269990947142906),\n",
       "  ('mississippi', 0.09269990947142905),\n",
       "  ('lead', 0.09230222890504153),\n",
       "  ('april', 0.0904639388967237)]]"
      ]
     },
     "execution_count": 104,
     "metadata": {},
     "output_type": "execute_result"
    }
   ],
   "source": [
    "textrank_list"
   ]
  },
  {
   "cell_type": "markdown",
   "metadata": {},
   "source": [
    "## 3.3 TfIdf"
   ]
  },
  {
   "cell_type": "code",
   "execution_count": 35,
   "metadata": {},
   "outputs": [],
   "source": [
    "from sklearn.feature_extraction.text import TfidfVectorizer \n",
    "corpus = [i['text'] for i in text_dict]\n",
    "vectorizer = TfidfVectorizer(stop_words= stop)\n",
    "X = vectorizer.fit_transform(corpus).toarray()\n"
   ]
  },
  {
   "cell_type": "code",
   "execution_count": 59,
   "metadata": {},
   "outputs": [],
   "source": [
    "tf_idf_list = []\n",
    "import numpy as np\n",
    "for row in X:\n",
    "    sorted_scores_indx = np.argsort(row, axis=0)[::-1]\n",
    "    tf_idf_list.append([vectorizer.get_feature_names()[i] for i in sorted_scores_indx[:10]])"
   ]
  },
  {
   "cell_type": "code",
   "execution_count": 105,
   "metadata": {},
   "outputs": [
    {
     "data": {
      "text/plain": [
       "[['lynch',\n",
       "  'film',\n",
       "  'award',\n",
       "  'dream',\n",
       "  'films',\n",
       "  'peaks',\n",
       "  'surrealist',\n",
       "  'twin',\n",
       "  'big',\n",
       "  'david'],\n",
       " ['os',\n",
       "  'mac',\n",
       "  'system',\n",
       "  'macintosh',\n",
       "  'operating',\n",
       "  'apple',\n",
       "  'software',\n",
       "  'memory',\n",
       "  'program',\n",
       "  'systems'],\n",
       " ['river',\n",
       "  'mississippi',\n",
       "  'states',\n",
       "  'drainage',\n",
       "  '20th',\n",
       "  'tributaries',\n",
       "  'agricultural',\n",
       "  'century',\n",
       "  'united',\n",
       "  'formed'],\n",
       " ['earthquake',\n",
       "  'km',\n",
       "  'kathmandu',\n",
       "  'nepal',\n",
       "  'occurred',\n",
       "  'mw',\n",
       "  'magnitude',\n",
       "  'mi',\n",
       "  'approximately',\n",
       "  '2015'],\n",
       " ['space',\n",
       "  'affine',\n",
       "  'vector',\n",
       "  'subspace',\n",
       "  'dimension',\n",
       "  'linear',\n",
       "  'origin',\n",
       "  'point',\n",
       "  'points',\n",
       "  'vectors'],\n",
       " ['language',\n",
       "  'languages',\n",
       "  'social',\n",
       "  'human',\n",
       "  'thought',\n",
       "  'communication',\n",
       "  'words',\n",
       "  'spoken',\n",
       "  'systems',\n",
       "  'form'],\n",
       " ['war',\n",
       "  'confederacy',\n",
       "  'civil',\n",
       "  'confederate',\n",
       "  'states',\n",
       "  'slavery',\n",
       "  'union',\n",
       "  'lincoln',\n",
       "  'western',\n",
       "  'grant']]"
      ]
     },
     "execution_count": 105,
     "metadata": {},
     "output_type": "execute_result"
    }
   ],
   "source": [
    "tf_idf_list"
   ]
  },
  {
   "cell_type": "markdown",
   "metadata": {},
   "source": [
    "## 3.4 KeyBert"
   ]
  },
  {
   "cell_type": "code",
   "execution_count": 38,
   "metadata": {},
   "outputs": [
    {
     "data": {
      "application/vnd.jupyter.widget-view+json": {
       "model_id": "72e41fc5806f4cf5acb4c4b380ac3df6",
       "version_major": 2,
       "version_minor": 0
      },
      "text/plain": [
       "HBox(children=(FloatProgress(value=0.0, description='Downloading', max=1652.0, style=ProgressStyle(description…"
      ]
     },
     "metadata": {},
     "output_type": "display_data"
    },
    {
     "name": "stdout",
     "output_type": "stream",
     "text": [
      "\n"
     ]
    },
    {
     "data": {
      "application/vnd.jupyter.widget-view+json": {
       "model_id": "b2225ffbc4fb43078ad8b781f875ba53",
       "version_major": 2,
       "version_minor": 0
      },
      "text/plain": [
       "HBox(children=(FloatProgress(value=0.0, description='Downloading', max=190.0, style=ProgressStyle(description_…"
      ]
     },
     "metadata": {},
     "output_type": "display_data"
    },
    {
     "name": "stdout",
     "output_type": "stream",
     "text": [
      "\n"
     ]
    },
    {
     "data": {
      "application/vnd.jupyter.widget-view+json": {
       "model_id": "3164bd1b2a6649f5bf2765dbe8851461",
       "version_major": 2,
       "version_minor": 0
      },
      "text/plain": [
       "HBox(children=(FloatProgress(value=0.0, description='Downloading', max=3743.0, style=ProgressStyle(description…"
      ]
     },
     "metadata": {},
     "output_type": "display_data"
    },
    {
     "name": "stdout",
     "output_type": "stream",
     "text": [
      "\n"
     ]
    },
    {
     "data": {
      "application/vnd.jupyter.widget-view+json": {
       "model_id": "a07ea46b01674cd0a75ee5abab021800",
       "version_major": 2,
       "version_minor": 0
      },
      "text/plain": [
       "HBox(children=(FloatProgress(value=0.0, description='Downloading', max=48.0, style=ProgressStyle(description_w…"
      ]
     },
     "metadata": {},
     "output_type": "display_data"
    },
    {
     "name": "stdout",
     "output_type": "stream",
     "text": [
      "\n"
     ]
    },
    {
     "data": {
      "application/vnd.jupyter.widget-view+json": {
       "model_id": "08011ce2682949b4949b5f3f0ea646ce",
       "version_major": 2,
       "version_minor": 0
      },
      "text/plain": [
       "HBox(children=(FloatProgress(value=0.0, description='Downloading', max=778.0, style=ProgressStyle(description_…"
      ]
     },
     "metadata": {},
     "output_type": "display_data"
    },
    {
     "name": "stdout",
     "output_type": "stream",
     "text": [
      "\n"
     ]
    },
    {
     "data": {
      "application/vnd.jupyter.widget-view+json": {
       "model_id": "65f27539fc1f4981a2b42d517352c320",
       "version_major": 2,
       "version_minor": 0
      },
      "text/plain": [
       "HBox(children=(FloatProgress(value=0.0, description='Downloading', max=117.0, style=ProgressStyle(description_…"
      ]
     },
     "metadata": {},
     "output_type": "display_data"
    },
    {
     "name": "stdout",
     "output_type": "stream",
     "text": [
      "\n"
     ]
    },
    {
     "data": {
      "application/vnd.jupyter.widget-view+json": {
       "model_id": "749de953573f4a289d53d4f1682f9d8a",
       "version_major": 2,
       "version_minor": 0
      },
      "text/plain": [
       "HBox(children=(FloatProgress(value=0.0, description='Downloading', max=1112262449.0, style=ProgressStyle(descr…"
      ]
     },
     "metadata": {},
     "output_type": "display_data"
    },
    {
     "name": "stdout",
     "output_type": "stream",
     "text": [
      "\n"
     ]
    },
    {
     "data": {
      "application/vnd.jupyter.widget-view+json": {
       "model_id": "8d5e597559fe41e589449d653d3d4a86",
       "version_major": 2,
       "version_minor": 0
      },
      "text/plain": [
       "HBox(children=(FloatProgress(value=0.0, description='Downloading', max=53.0, style=ProgressStyle(description_w…"
      ]
     },
     "metadata": {},
     "output_type": "display_data"
    },
    {
     "name": "stdout",
     "output_type": "stream",
     "text": [
      "\n"
     ]
    },
    {
     "data": {
      "application/vnd.jupyter.widget-view+json": {
       "model_id": "5917caa51206447db9f9c7c101ceb171",
       "version_major": 2,
       "version_minor": 0
      },
      "text/plain": [
       "HBox(children=(FloatProgress(value=0.0, description='Downloading', max=5069051.0, style=ProgressStyle(descript…"
      ]
     },
     "metadata": {},
     "output_type": "display_data"
    },
    {
     "name": "stdout",
     "output_type": "stream",
     "text": [
      "\n"
     ]
    },
    {
     "data": {
      "application/vnd.jupyter.widget-view+json": {
       "model_id": "17ce6813999b404dba39e97e8bc7947e",
       "version_major": 2,
       "version_minor": 0
      },
      "text/plain": [
       "HBox(children=(FloatProgress(value=0.0, description='Downloading', max=294.0, style=ProgressStyle(description_…"
      ]
     },
     "metadata": {},
     "output_type": "display_data"
    },
    {
     "name": "stdout",
     "output_type": "stream",
     "text": [
      "\n"
     ]
    },
    {
     "data": {
      "application/vnd.jupyter.widget-view+json": {
       "model_id": "ef032d9b53c94e46bbc952f189164062",
       "version_major": 2,
       "version_minor": 0
      },
      "text/plain": [
       "HBox(children=(FloatProgress(value=0.0, description='Downloading', max=9081696.0, style=ProgressStyle(descript…"
      ]
     },
     "metadata": {},
     "output_type": "display_data"
    },
    {
     "name": "stdout",
     "output_type": "stream",
     "text": [
      "\n"
     ]
    },
    {
     "data": {
      "application/vnd.jupyter.widget-view+json": {
       "model_id": "c77cd7618ce749cf997cbcb660659c28",
       "version_major": 2,
       "version_minor": 0
      },
      "text/plain": [
       "HBox(children=(FloatProgress(value=0.0, description='Downloading', max=464.0, style=ProgressStyle(description_…"
      ]
     },
     "metadata": {},
     "output_type": "display_data"
    },
    {
     "name": "stdout",
     "output_type": "stream",
     "text": [
      "\n"
     ]
    },
    {
     "data": {
      "application/vnd.jupyter.widget-view+json": {
       "model_id": "ce5bf0ade299415ab974b0d1dbada75e",
       "version_major": 2,
       "version_minor": 0
      },
      "text/plain": [
       "HBox(children=(FloatProgress(value=0.0, description='Downloading', max=229.0, style=ProgressStyle(description_…"
      ]
     },
     "metadata": {},
     "output_type": "display_data"
    },
    {
     "name": "stdout",
     "output_type": "stream",
     "text": [
      "\n"
     ]
    },
    {
     "name": "stderr",
     "output_type": "stream",
     "text": [
      "C:\\ProgramData\\Anaconda3\\lib\\site-packages\\transformers\\configuration_utils.py:369: UserWarning: Passing `gradient_checkpointing` to a config initialization is deprecated and will be removed in v5 Transformers. Using `model.gradient_checkpointing_enable()` instead, or if you are using the `Trainer` API, pass `gradient_checkpointing=True` in your `TrainingArguments`.\n",
      "  warnings.warn(\n"
     ]
    }
   ],
   "source": [
    "from keybert import KeyBERT\n",
    "kw_model = KeyBERT('clips/mfaq')"
   ]
  },
  {
   "cell_type": "code",
   "execution_count": 55,
   "metadata": {},
   "outputs": [],
   "source": [
    "kw_list = []\n",
    "for text in [i['text'] for i in text_dict]:\n",
    "    kw_list.append(kw_model.extract_keywords(normalize_text(text), keyphrase_ngram_range=(1, 2), stop_words=stop,top_n=10))"
   ]
  },
  {
   "cell_type": "code",
   "execution_count": 106,
   "metadata": {},
   "outputs": [
    {
     "data": {
      "text/plain": [
       "[[('david lynch', 0.9579),\n",
       "  ('david keith', 0.9574),\n",
       "  ('keith lynch', 0.957),\n",
       "  ('american filmmaker', 0.9559),\n",
       "  ('2006 lynch', 0.9556),\n",
       "  ('1986 lynch', 0.9554),\n",
       "  ('david', 0.9549),\n",
       "  ('actor musician', 0.9548),\n",
       "  ('dean hurley', 0.9547),\n",
       "  ('filmmaker painter', 0.9546)],\n",
       " [('system mac', 0.9618),\n",
       "  ('macintosh system', 0.9599),\n",
       "  ('classic mac', 0.9596),\n",
       "  ('replace mac', 0.9594),\n",
       "  ('new macintosh', 0.959),\n",
       "  ('develop macintosh', 0.9584),\n",
       "  ('name macintosh', 0.958),\n",
       "  ('update mac', 0.9577),\n",
       "  ('system apple', 0.9577),\n",
       "  ('macintosh family', 0.9576)],\n",
       " [('large river', 0.9633),\n",
       "  ('long river', 0.9622),\n",
       "  ('chief river', 0.9611),\n",
       "  ('due river', 0.9609),\n",
       "  ('river delta', 0.9606),\n",
       "  ('river', 0.96),\n",
       "  ('world river', 0.9599),\n",
       "  ('river strategic', 0.9588),\n",
       "  ('river serve', 0.9583),\n",
       "  ('river also', 0.9573)],\n",
       " [('report earthquake', 0.9678),\n",
       "  ('magnitude earthquake', 0.9677),\n",
       "  ('earthquake occur', 0.9677),\n",
       "  ('earthquake magnitude', 0.9672),\n",
       "  ('gorkha earthquake', 0.9668),\n",
       "  ('earthquake kill', 0.9667),\n",
       "  ('earthquake say', 0.9659),\n",
       "  ('earthquake somewhat', 0.9657),\n",
       "  ('earthquake cause', 0.9653),\n",
       "  ('earthquake refer', 0.9648)],\n",
       " [('space define', 0.9682),\n",
       "  ('produce affine', 0.9639),\n",
       "  ('subspace linear', 0.9639),\n",
       "  ('dimension affine', 0.9638),\n",
       "  ('linear subspace', 0.9638),\n",
       "  ('vector affine', 0.9636),\n",
       "  ('define dimension', 0.9635),\n",
       "  ('element linear', 0.9634),\n",
       "  ('mathematic affine', 0.9634),\n",
       "  ('say affine', 0.9629)],\n",
       " [('language meaning', 0.9664),\n",
       "  ('definition language', 0.9663),\n",
       "  ('vocabulary language', 0.9654),\n",
       "  ('mean communication', 0.9634),\n",
       "  ('language grammar', 0.9634),\n",
       "  ('structure language', 0.9634),\n",
       "  ('human language', 0.9634),\n",
       "  ('philosophy language', 0.9631),\n",
       "  ('language include', 0.9631),\n",
       "  ('spurious language', 0.9628)],\n",
       " [('war among', 0.9702),\n",
       "  ('conflict american', 0.9693),\n",
       "  ('slavery war', 0.9691),\n",
       "  ('though war', 0.9689),\n",
       "  ('civil war', 0.9684),\n",
       "  ('first war', 0.9666),\n",
       "  ('1864 union', 0.9662),\n",
       "  ('1863 union', 0.9661),\n",
       "  ('military conflict', 0.9658),\n",
       "  ('war western', 0.9654)]]"
      ]
     },
     "execution_count": 106,
     "metadata": {},
     "output_type": "execute_result"
    }
   ],
   "source": [
    "kw_list"
   ]
  },
  {
   "cell_type": "markdown",
   "metadata": {},
   "source": [
    "# 5. Оценка методов"
   ]
  },
  {
   "cell_type": "code",
   "execution_count": 70,
   "metadata": {},
   "outputs": [],
   "source": [
    "def keyword_to_one(keywords):\n",
    "    one_keyword_set = set()\n",
    "    for keyword in keywords:\n",
    "        for word in keyword.split():\n",
    "            one_keyword_set.add(word)\n",
    "    return(list(one_keyword_set))\n",
    "def precision(custom_kw, method_kw):\n",
    "    t_p = 0\n",
    "    for i in method_kw:\n",
    "        if i in custom_kw:\n",
    "            t_p+=1\n",
    "    return(t_p/len(method_kw))\n",
    "def recall(custom_kw, method_kw):\n",
    "    t_p = 0\n",
    "    for i in method_kw:\n",
    "        if i in custom_kw:\n",
    "            t_p+=1\n",
    "    return(t_p/len(custom_kw))\n",
    "def f_score(custom_kw, method_kw):\n",
    "    prec = precision(custom_kw, method_kw)\n",
    "    rec = recall(custom_kw, method_kw)\n",
    "    return(2*(prec*rec)/(prec+rec+1))"
   ]
  },
  {
   "cell_type": "code",
   "execution_count": 101,
   "metadata": {},
   "outputs": [
    {
     "name": "stdout",
     "output_type": "stream",
     "text": [
      "Text 1\n",
      "Rake:\n",
      "Precision: 0.2222222222222222\n",
      "Recall: 0.03278688524590164\n",
      "f score: 0.011611030478955007\n",
      "\n",
      "TextRank:\n",
      "Precision: 0.7419354838709677\n",
      "Recall: 0.23469387755102042\n",
      "f score: 0.1761865112406328\n",
      "\n",
      "Tfidf:\n",
      "Precision: 1.0\n",
      "Recall: 0.10204081632653061\n",
      "f score: 0.09708737864077671\n",
      "\n",
      "KeyBert:\n",
      "Precision: 0.2\n",
      "Recall: 0.03278688524590164\n",
      "f score: 0.010638297872340427\n",
      "\n",
      "\n",
      "Text 2\n",
      "Rake:\n",
      "Precision: 0.2777777777777778\n",
      "Recall: 0.1282051282051282\n",
      "f score: 0.050658561296859174\n",
      "\n",
      "TextRank:\n",
      "Precision: 0.36\n",
      "Recall: 0.16981132075471697\n",
      "f score: 0.07992106561420817\n",
      "\n",
      "Tfidf:\n",
      "Precision: 0.8\n",
      "Recall: 0.1509433962264151\n",
      "f score: 0.12379110251450677\n",
      "\n",
      "KeyBert:\n",
      "Precision: 0.0\n",
      "Recall: 0.0\n",
      "f score: 0.0\n",
      "\n",
      "\n",
      "Text 3\n",
      "Rake:\n",
      "Precision: 0.625\n",
      "Recall: 0.12195121951219512\n",
      "f score: 0.08726003490401396\n",
      "\n",
      "TextRank:\n",
      "Precision: 0.5769230769230769\n",
      "Recall: 0.25862068965517243\n",
      "f score: 0.16257225433526012\n",
      "\n",
      "Tfidf:\n",
      "Precision: 0.5\n",
      "Recall: 0.08620689655172414\n",
      "f score: 0.05434782608695652\n",
      "\n",
      "KeyBert:\n",
      "Precision: 0.1\n",
      "Recall: 0.024390243902439025\n",
      "f score: 0.004338394793926247\n",
      "\n",
      "\n",
      "Text 4\n",
      "Rake:\n",
      "Precision: 0.23333333333333334\n",
      "Recall: 0.13725490196078433\n",
      "f score: 0.04673342870767764\n",
      "\n",
      "TextRank:\n",
      "Precision: 0.46153846153846156\n",
      "Recall: 0.225\n",
      "f score: 0.12314709236031927\n",
      "\n",
      "Tfidf:\n",
      "Precision: 0.4\n",
      "Recall: 0.05\n",
      "f score: 0.02758620689655173\n",
      "\n",
      "KeyBert:\n",
      "Precision: 0.1\n",
      "Recall: 0.0196078431372549\n",
      "f score: 0.0035026269702276708\n",
      "\n",
      "\n",
      "Text 5\n",
      "Rake:\n",
      "Precision: 0.375\n",
      "Recall: 0.2857142857142857\n",
      "f score: 0.12903225806451613\n",
      "\n",
      "TextRank:\n",
      "Precision: 0.4\n",
      "Recall: 0.16\n",
      "f score: 0.08205128205128205\n",
      "\n",
      "Tfidf:\n",
      "Precision: 0.6\n",
      "Recall: 0.24\n",
      "f score: 0.1565217391304348\n",
      "\n",
      "KeyBert:\n",
      "Precision: 0.0\n",
      "Recall: 0.0\n",
      "f score: 0.0\n",
      "\n",
      "\n",
      "Text 6\n",
      "Rake:\n",
      "Precision: 0.15789473684210525\n",
      "Recall: 0.08108108108108109\n",
      "f score: 0.020665901262916186\n",
      "\n",
      "TextRank:\n",
      "Precision: 0.23529411764705882\n",
      "Recall: 0.1509433962264151\n",
      "f score: 0.05124099279423539\n",
      "\n",
      "Tfidf:\n",
      "Precision: 0.4\n",
      "Recall: 0.07547169811320754\n",
      "f score: 0.04092071611253197\n",
      "\n",
      "KeyBert:\n",
      "Precision: 0.1\n",
      "Recall: 0.02702702702702703\n",
      "f score: 0.004796163069544365\n",
      "\n",
      "\n",
      "Text 7\n",
      "Rake:\n",
      "Precision: 0.38095238095238093\n",
      "Recall: 0.1568627450980392\n",
      "f score: 0.0777170613236187\n",
      "\n",
      "TextRank:\n",
      "Precision: 0.6060606060606061\n",
      "Recall: 0.25\n",
      "f score: 0.163265306122449\n",
      "\n",
      "Tfidf:\n",
      "Precision: 1.0\n",
      "Recall: 0.125\n",
      "f score: 0.11764705882352941\n",
      "\n",
      "KeyBert:\n",
      "Precision: 0.1\n",
      "Recall: 0.0196078431372549\n",
      "f score: 0.0035026269702276708\n",
      "\n",
      "\n"
     ]
    }
   ],
   "source": [
    " for i in range(7):\n",
    "        print('Text '+str(i+1))\n",
    "        ck = text_dict[i]['keywords']\n",
    "        ck_words = keyword_to_one(text_dict[i]['keywords'])\n",
    "        print('Rake:')\n",
    "        r_list = [word[0] for word in rake_list[i]]\n",
    "        print('Precision: ' + str(precision(ck,r_list)))\n",
    "        print('Recall: ' + str(recall(ck,r_list)))\n",
    "        print('f score: ' + str(f_score(ck,r_list)))\n",
    "        print('\\nTextRank:')\n",
    "        t_list = [word[0] for word in textrank_list[i]]\n",
    "        print('Precision: ' + str(precision(ck_words,t_list)))\n",
    "        print('Recall: ' + str(recall(ck_words,t_list)))\n",
    "        print('f score: ' + str(f_score(ck_words,t_list)))\n",
    "        print('\\nTfidf:')\n",
    "        print('Precision: ' + str(precision(ck_words,tf_idf_list[i])))\n",
    "        print('Recall: ' + str(recall(ck_words,tf_idf_list[i])))\n",
    "        print('f score: ' + str(f_score(ck_words,tf_idf_list[i])))\n",
    "        print('\\nKeyBert:')\n",
    "        k_list = [word[0] for word in kw_list[i]]\n",
    "        print('Precision: ' + str(precision(ck,k_list)))\n",
    "        print('Recall: ' + str(recall(ck,k_list)))\n",
    "        print('f score: ' + str(f_score(ck,k_list)))\n",
    "        print('\\n')\n",
    "        "
   ]
  }
 ],
 "metadata": {
  "kernelspec": {
   "display_name": "Python 3",
   "language": "python",
   "name": "python3"
  },
  "language_info": {
   "codemirror_mode": {
    "name": "ipython",
    "version": 3
   },
   "file_extension": ".py",
   "mimetype": "text/x-python",
   "name": "python",
   "nbconvert_exporter": "python",
   "pygments_lexer": "ipython3",
   "version": "3.8.3"
  }
 },
 "nbformat": 4,
 "nbformat_minor": 4
}
