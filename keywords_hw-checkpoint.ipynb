{
 "cells": [
  {
   "cell_type": "code",
   "execution_count": 1,
   "metadata": {},
   "outputs": [
    {
     "name": "stdout",
     "output_type": "stream",
     "text": [
      "Collecting python-rake\n",
      "  Downloading python_rake-1.5.0-py3-none-any.whl (14 kB)\n",
      "Installing collected packages: python-rake\n",
      "Successfully installed python-rake-1.5.0\n"
     ]
    }
   ],
   "source": [
    "!pip3 install python-rake"
   ]
  },
  {
   "cell_type": "code",
   "execution_count": 32,
   "metadata": {},
   "outputs": [
    {
     "ename": "FileNotFoundError",
     "evalue": "[Errno 2] No such file or directory: 'corpus\\\\1_synopsis.txt'",
     "output_type": "error",
     "traceback": [
      "\u001b[1;31m---------------------------------------------------------------------------\u001b[0m",
      "\u001b[1;31mFileNotFoundError\u001b[0m                         Traceback (most recent call last)",
      "\u001b[1;32m<ipython-input-32-efb9265862fc>\u001b[0m in \u001b[0;36m<module>\u001b[1;34m\u001b[0m\n\u001b[0;32m      3\u001b[0m     \u001b[0mtext_keywords\u001b[0m  \u001b[1;33m=\u001b[0m \u001b[1;33m{\u001b[0m\u001b[1;33m}\u001b[0m\u001b[1;33m\u001b[0m\u001b[1;33m\u001b[0m\u001b[0m\n\u001b[0;32m      4\u001b[0m \u001b[1;33m\u001b[0m\u001b[0m\n\u001b[1;32m----> 5\u001b[1;33m     \u001b[1;32mwith\u001b[0m \u001b[0mopen\u001b[0m\u001b[1;33m(\u001b[0m\u001b[1;34m'corpus\\\\'\u001b[0m \u001b[1;33m+\u001b[0m \u001b[0msynopsis\u001b[0m \u001b[1;33m+\u001b[0m \u001b[1;34m'.txt'\u001b[0m\u001b[1;33m)\u001b[0m \u001b[1;32mas\u001b[0m \u001b[0mf\u001b[0m\u001b[1;33m:\u001b[0m\u001b[1;33m\u001b[0m\u001b[1;33m\u001b[0m\u001b[0m\n\u001b[0m\u001b[0;32m      6\u001b[0m         \u001b[0mtext\u001b[0m \u001b[1;33m=\u001b[0m \u001b[0mf\u001b[0m\u001b[1;33m.\u001b[0m\u001b[0mread\u001b[0m\u001b[1;33m(\u001b[0m\u001b[1;33m)\u001b[0m\u001b[1;33m\u001b[0m\u001b[1;33m\u001b[0m\u001b[0m\n\u001b[0;32m      7\u001b[0m     \u001b[0mtext_keywords\u001b[0m\u001b[1;33m[\u001b[0m\u001b[1;34m'text'\u001b[0m\u001b[1;33m]\u001b[0m \u001b[1;33m=\u001b[0m \u001b[0mtext\u001b[0m\u001b[1;33m\u001b[0m\u001b[1;33m\u001b[0m\u001b[0m\n",
      "\u001b[1;31mFileNotFoundError\u001b[0m: [Errno 2] No such file or directory: 'corpus\\\\1_synopsis.txt'"
     ]
    }
   ],
   "source": [
    "texts_dict = []\n",
    "for synopsis, keywords in [(\"1_synopsis\",\"1_keywords\"), (\"2_synopsis\",\"2_keywords\"),(\"3_synopsis\",\"3_keywords\"),(\"4_synopsis\",\"4_keywords\"),(\"5_synopsis\",\"5_keywords\")]:\n",
    "    text_keywords  = {}\n",
    "    \n",
    "    with open('corpus\\\\' + synopsis + '.txt') as f:\n",
    "        text = f.read()\n",
    "    text_keywords['text'] = text\n",
    "    with open('corpus/' + keywords + '.txt') as f:\n",
    "        keywords = f.readlines()[::2]\n",
    "    text_keywords['keywords'] = keywords\n",
    "    text_dicts.append(text_keywords)"
   ]
  },
  {
   "cell_type": "code",
   "execution_count": 30,
   "metadata": {},
   "outputs": [
    {
     "data": {
      "text/plain": [
       "'\\\\r'"
      ]
     },
     "execution_count": 30,
     "metadata": {},
     "output_type": "execute_result"
    }
   ],
   "source": [
    "a = r'\\r'\n",
    "a"
   ]
  },
  {
   "cell_type": "code",
   "execution_count": null,
   "metadata": {},
   "outputs": [],
   "source": []
  },
  {
   "cell_type": "code",
   "execution_count": 2,
   "metadata": {},
   "outputs": [],
   "source": [
    "# импорты\n",
    "import RAKE\n",
    "import nltk\n",
    "#nltk.download('stopwords')\n",
    "from nltk.corpus import stopwords"
   ]
  },
  {
   "cell_type": "code",
   "execution_count": 3,
   "metadata": {},
   "outputs": [],
   "source": [
    "stop = stopwords.words('english')"
   ]
  },
  {
   "cell_type": "code",
   "execution_count": 8,
   "metadata": {},
   "outputs": [],
   "source": [
    "wiki_text = \"\"\"\n",
    "The FIFA World Cup, often simply called the World Cup, is an international association football competition contested by the senior men's national teams of the members of the Fédération Internationale de Football Association (FIFA), the sport's global governing body. The championship has been awarded every four years since the inaugural tournament in 1930, except in 1942 and 1946 when it was not held because of the Second World War. The current champions are France, who won their second title at the 2018 tournament in Russia.\n",
    "\n",
    "The current format involves a qualification phase, which takes place over the preceding three years, to determine which teams qualify for the tournament phase. In the tournament phase, 32 teams compete for the title at venues within the host nation(s) over about a month. The host nation(s) automatically qualify.\n",
    "\n",
    "As of the 2018 FIFA World Cup, twenty-one final tournaments have been held and a total of 79 national teams have competed. The trophy has been won by eight national teams. Brazil have won five times, and they are the only team to have played in every tournament. The other World Cup winners are Germany and Italy, with four titles each; Argentina, France, and inaugural winner Uruguay, with two titles each; and England and Spain, with one title each.\n",
    "\n",
    "The World Cup is the most prestigious association football tournament in the world, as well as the most widely viewed and followed single sporting event in the world. The cumulative viewership of all matches of the 2006 World Cup was estimated to be 26.29 billion with an estimated 715.1 million people watching the final match, a ninth of the entire population of the planet.\n",
    "\n",
    "17 countries have hosted the World Cup. Brazil, France, Italy, Germany, and Mexico have each hosted twice, while Uruguay, Switzerland, Sweden, Chile, England, Argentina, Spain, the United States, Japan and South Korea (jointly), South Africa, and Russia have each hosted once. Qatar will host the 2022 tournament, and 2026 will be jointly hosted by Canada, the United States, and Mexico, which will give Mexico the distinction of being the first country to host games in three World Cups.\n",
    "\n",
    "The world's first international football match was a challenge match played in Glasgow in 1872 between Scotland and England. The first international tournament for nations, the inaugural British Home Championship, took place in 1884 As football grew in popularity in other parts of the world at the start of the 20th century, it was held as a demonstration sport with no medals awarded at the 1900 and 1904 Summer Olympics (however, the International Olympic Committee has retroactively upgraded their status to official events), and at the 1906 Intercalated Games.\n",
    "\n",
    "After FIFA was founded in 1904, it tried to arrange an international football tournament between nations outside the Olympic framework in Switzerland in 1906. These were very early days for international football, and the official history of FIFA describes the competition as having been a failure.\n",
    "\n",
    "At the 1908 Summer Olympics in London, football became an official competition. Planned by The Football Association (FA), England's football governing body, the event was for amateur players only and was regarded suspiciously as a show rather than a competition. Great Britain (represented by the England national amateur football team) won the gold medals. They repeated the feat at the 1912 Summer Olympics in Stockholm.\n",
    "\n",
    "With the Olympic event continuing to be contested only between amateur teams, Sir Thomas Lipton organised the Sir Thomas Lipton Trophy tournament in Turin in 1909. The Lipton tournament was a championship between individual clubs (not national teams) from different nations, each one of which represented an entire nation. The competition is sometimes described as The First World Cup,[10] and featured the most prestigious professional club sides from Italy, Germany and Switzerland, but the FA of England refused to be associated with the competition and declined the offer to send a professional team. Lipton invited West Auckland, an amateur side from County Durham, to represent England instead. West Auckland won the tournament and returned in 1911 to successfully defend their title. Prior to the Lipton competition, from 1876 to 1904, games that were considered the \"football world championship\" were meetings between leading English and Scottish clubs, such as the 1895 game between Sunderland A.F.C. and the Heart of Midlothian F.C., which Sunderland won.\n",
    "\n",
    "In 1914, FIFA agreed to recognise the Olympic tournament as a \"world football championship for amateurs\", and took responsibility for managing the event. This paved the way for the world's first intercontinental football competition for nations, at the 1920 Summer Olympics, contested by Egypt and 13 European teams, and won by Belgium. Uruguay won the next two Olympic football tournaments in 1924 and 1928. Those were also the first two open world championships, as 1924 was the start of FIFA's professional era.\n",
    "\n",
    "Due to the success of the Olympic football tournaments, FIFA, with President Jules Rimet as the driving force, again started looking at staging its own international tournament outside of the Olympics. On 28 May 1928, the FIFA Congress in Amsterdam decided to stage a world championship itself. With Uruguay now two-time official football world champions and to celebrate their centenary of independence in 1930, FIFA named Uruguay as the host country of the inaugural World Cup tournament.\n",
    "\n",
    "The national associations of selected nations were invited to send a team, but the choice of Uruguay as a venue for the competition meant a long and costly trip across the Atlantic Ocean for European sides. As such, no European country pledged to send a team until two months before the start of the competition. Rimet eventually persuaded teams from Belgium, France, Romania, and Yugoslavia to make the trip. In total, 13 nations took part: seven from South America, four from Europe, and two from North America.\n",
    "\n",
    "The first two World Cup matches took place simultaneously on 13 July 1930, and were won by France and the US, who defeated Mexico 4–1 and Belgium 3–0 respectively. The first goal in World Cup history was scored by Lucien Laurent of France. In the final, Uruguay defeated Argentina 4–2 in front of 93,000 people in Montevideo, and became the first nation to win the World Cup. After the creation of the World Cup, FIFA and the IOC disagreed over the status of amateur players, and so football was dropped from the 1932 Summer Olympics. After the IOC and FIFA worked out their differences, Olympic football returned at the 1936 Summer Olympics, but was now overshadowed by the more prestigious World Cup.\n",
    "\n",
    "The issues facing the early World Cup tournaments were the difficulties of intercontinental travel, and war. Few South American teams were willing to travel to Europe for the 1934 World Cup and all North and South American nations except Brazil and Cuba boycotted the 1938 tournament. Brazil was the only South American team to compete in both. The 1942 and 1946 competitions, which Germany and Brazil sought to host, were cancelled due to World War II and its aftermath.\n",
    "\"\"\""
   ]
  },
  {
   "cell_type": "code",
   "execution_count": 9,
   "metadata": {},
   "outputs": [],
   "source": [
    "rake = RAKE.Rake(stop)"
   ]
  },
  {
   "cell_type": "code",
   "execution_count": 10,
   "metadata": {},
   "outputs": [],
   "source": [
    "wiki_kw_list = rake.run(wiki_text, maxWords=3, minFrequency=2)"
   ]
  },
  {
   "cell_type": "code",
   "execution_count": 11,
   "metadata": {},
   "outputs": [
    {
     "data": {
      "text/plain": [
       "[('world cup', 4.634057971014492),\n",
       " ('national teams', 4.4222222222222225),\n",
       " ('united states', 4.0),\n",
       " ('amateur players', 4.0),\n",
       " ('tournament phase', 3.9230769230769234),\n",
       " ('host nation', 3.666666666666667),\n",
       " ('world', 2.217391304347826),\n",
       " ('championship', 2.0),\n",
       " ('fifa', 1.7272727272727273),\n",
       " ('uruguay', 1.6666666666666667),\n",
       " ('host', 1.6666666666666667),\n",
       " ('event', 1.6666666666666667),\n",
       " ('team', 1.6),\n",
       " ('nations', 1.6),\n",
       " ('title', 1.5),\n",
       " ('england', 1.5),\n",
       " ('hosted', 1.5),\n",
       " ('mexico', 1.5),\n",
       " ('competition', 1.375),\n",
       " ('brazil', 1.25),\n",
       " ('held', 1.0),\n",
       " ('france', 1.0),\n",
       " ('russia', 1.0),\n",
       " ('total', 1.0),\n",
       " ('germany', 1.0),\n",
       " ('italy', 1.0),\n",
       " ('argentina', 1.0),\n",
       " ('spain', 1.0),\n",
       " ('switzerland', 1.0),\n",
       " ('start', 1.0),\n",
       " ('status', 1.0),\n",
       " ('fa', 1.0),\n",
       " ('represented', 1.0),\n",
       " ('contested', 1.0),\n",
       " ('send', 1.0),\n",
       " ('sunderland', 1.0),\n",
       " ('c', 1.0),\n",
       " ('belgium', 1.0),\n",
       " ('europe', 1.0),\n",
       " ('1930', 0),\n",
       " ('1942', 0),\n",
       " ('1904', 0),\n",
       " ('1924', 0)]"
      ]
     },
     "execution_count": 11,
     "metadata": {},
     "output_type": "execute_result"
    }
   ],
   "source": [
    "wiki_kw_list"
   ]
  },
  {
   "cell_type": "code",
   "execution_count": null,
   "metadata": {},
   "outputs": [],
   "source": []
  }
 ],
 "metadata": {
  "kernelspec": {
   "display_name": "Python 3",
   "language": "python",
   "name": "python3"
  },
  "language_info": {
   "codemirror_mode": {
    "name": "ipython",
    "version": 3
   },
   "file_extension": ".py",
   "mimetype": "text/x-python",
   "name": "python",
   "nbconvert_exporter": "python",
   "pygments_lexer": "ipython3",
   "version": "3.8.3"
  }
 },
 "nbformat": 4,
 "nbformat_minor": 4
}
